{
 "cells": [
  {
   "cell_type": "code",
   "execution_count": 1,
   "id": "36cc2417",
   "metadata": {
    "_cell_guid": "b1076dfc-b9ad-4769-8c92-a6c4dae69d19",
    "_uuid": "8f2839f25d086af736a60e9eeb907d3b93b6e0e5",
    "execution": {
     "iopub.execute_input": "2022-01-21T10:57:58.988671Z",
     "iopub.status.busy": "2022-01-21T10:57:58.987340Z",
     "iopub.status.idle": "2022-01-21T10:57:59.003927Z",
     "shell.execute_reply": "2022-01-21T10:57:59.004935Z",
     "shell.execute_reply.started": "2022-01-21T10:36:24.56391Z"
    },
    "papermill": {
     "duration": 0.028361,
     "end_time": "2022-01-21T10:57:59.005514",
     "exception": false,
     "start_time": "2022-01-21T10:57:58.977153",
     "status": "completed"
    },
    "tags": []
   },
   "outputs": [
    {
     "name": "stdout",
     "output_type": "stream",
     "text": [
      "/kaggle/input/home-data-for-ml-course/sample_submission.csv\n",
      "/kaggle/input/home-data-for-ml-course/sample_submission.csv.gz\n",
      "/kaggle/input/home-data-for-ml-course/train.csv.gz\n",
      "/kaggle/input/home-data-for-ml-course/data_description.txt\n",
      "/kaggle/input/home-data-for-ml-course/test.csv.gz\n",
      "/kaggle/input/home-data-for-ml-course/train.csv\n",
      "/kaggle/input/home-data-for-ml-course/test.csv\n"
     ]
    }
   ],
   "source": [
    "# This Python 3 environment comes with many helpful analytics libraries installed\n",
    "# It is defined by the kaggle/python Docker image: https://github.com/kaggle/docker-python\n",
    "# For example, here's several helpful packages to load\n",
    "\n",
    "import numpy as np # linear algebra\n",
    "import pandas as pd # data processing, CSV file I/O (e.g. pd.read_csv)\n",
    "\n",
    "\n",
    "# Input data files are available in the read-only \"../input/\" directory\n",
    "# For example, running this (by clicking run or pressing Shift+Enter) will list all files under the input directory\n",
    "\n",
    "import os\n",
    "for dirname, _, filenames in os.walk('/kaggle/input'):\n",
    "    for filename in filenames:\n",
    "        print(os.path.join(dirname, filename))\n",
    "\n",
    "# You can write up to 20GB to the current directory (/kaggle/working/) that gets preserved as output when you create a version using \"Save & Run All\" \n",
    "# You can also write temporary files to /kaggle/temp/, but they won't be saved outside of the current session"
   ]
  },
  {
   "cell_type": "code",
   "execution_count": 2,
   "id": "957ae723",
   "metadata": {
    "execution": {
     "iopub.execute_input": "2022-01-21T10:57:59.020329Z",
     "iopub.status.busy": "2022-01-21T10:57:59.019592Z",
     "iopub.status.idle": "2022-01-21T10:58:00.880695Z",
     "shell.execute_reply": "2022-01-21T10:58:00.882096Z",
     "shell.execute_reply.started": "2022-01-21T10:49:16.404077Z"
    },
    "papermill": {
     "duration": 1.870781,
     "end_time": "2022-01-21T10:58:00.882309",
     "exception": false,
     "start_time": "2022-01-21T10:57:59.011528",
     "status": "completed"
    },
    "tags": []
   },
   "outputs": [
    {
     "name": "stdout",
     "output_type": "stream",
     "text": [
      "Validation MAE for Random Forest Model: 19,791\n"
     ]
    }
   ],
   "source": [
    "# Import helpful libraries\n",
    "import pandas as pd\n",
    "from sklearn.ensemble import RandomForestRegressor\n",
    "from sklearn.metrics import mean_absolute_error\n",
    "from sklearn.model_selection import train_test_split\n",
    "\n",
    "# Load the data, and separate the target\n",
    "iowa_file_path = '../input/home-data-for-ml-course/train.csv'\n",
    "home_data = pd.read_csv(iowa_file_path)\n",
    "y = home_data.SalePrice\n",
    "\n",
    "# Create X (After completing the exercise, you can return to modify this line!)\n",
    "features = ['LotArea', 'YearBuilt', '1stFlrSF', '2ndFlrSF',\n",
    "            'OverallQual','FullBath', 'BedroomAbvGr', 'TotRmsAbvGrd']\n",
    "\n",
    "# Select columns corresponding to features, and preview the data\n",
    "X = home_data[features]\n",
    "X.head()\n",
    "\n",
    "# Split into validation and training data\n",
    "train_X, val_X, train_y, val_y = train_test_split(X, y, random_state=1)\n",
    "\n",
    "# Define a random forest model\n",
    "rf_model = RandomForestRegressor(random_state=1)\n",
    "rf_model.fit(train_X, train_y)\n",
    "rf_val_predictions = rf_model.predict(val_X)\n",
    "rf_val_mae = mean_absolute_error(rf_val_predictions, val_y)\n",
    "\n",
    "print(\"Validation MAE for Random Forest Model: {:,.0f}\".format(rf_val_mae))"
   ]
  },
  {
   "cell_type": "code",
   "execution_count": 3,
   "id": "03e5cdab",
   "metadata": {
    "execution": {
     "iopub.execute_input": "2022-01-21T10:58:00.912131Z",
     "iopub.status.busy": "2022-01-21T10:58:00.906923Z",
     "iopub.status.idle": "2022-01-21T10:58:01.606409Z",
     "shell.execute_reply": "2022-01-21T10:58:01.605824Z",
     "shell.execute_reply.started": "2022-01-21T10:57:23.686092Z"
    },
    "papermill": {
     "duration": 0.718436,
     "end_time": "2022-01-21T10:58:01.606551",
     "exception": false,
     "start_time": "2022-01-21T10:58:00.888115",
     "status": "completed"
    },
    "tags": []
   },
   "outputs": [],
   "source": [
    "# To improve accuracy, create a new Random Forest model which you will train on all training data\n",
    "rf_model_on_full_data = RandomForestRegressor()\n",
    "\n",
    "# fit rf_model_on_full_data on all data from the training data\n",
    "rf_model_on_full_data.fit(X,y)\n",
    "RandomForestRegressor()\n",
    "\n",
    "# path to file you will use for predictions\n",
    "test_data_path ='../input/home-data-for-ml-course/test.csv'\n",
    "\n",
    "# read test data file using pandas\n",
    "test_data = pd.read_csv(test_data_path)\n",
    "\n",
    "# create test_X which comes from test_data but includes only the columns you used for prediction.\n",
    "# The list of columns is stored in a variable called features\n",
    "test_X = test_data[features]\n",
    "# make predictions which we will submit. \n",
    "test_preds = rf_model_on_full_data.predict(test_X)"
   ]
  },
  {
   "cell_type": "code",
   "execution_count": 4,
   "id": "a0b5fecb",
   "metadata": {
    "execution": {
     "iopub.execute_input": "2022-01-21T10:58:01.625152Z",
     "iopub.status.busy": "2022-01-21T10:58:01.624433Z",
     "iopub.status.idle": "2022-01-21T10:58:01.634911Z",
     "shell.execute_reply": "2022-01-21T10:58:01.634361Z",
     "shell.execute_reply.started": "2022-01-21T10:55:51.971780Z"
    },
    "papermill": {
     "duration": 0.022626,
     "end_time": "2022-01-21T10:58:01.635061",
     "exception": false,
     "start_time": "2022-01-21T10:58:01.612435",
     "status": "completed"
    },
    "tags": []
   },
   "outputs": [],
   "source": [
    "# Run the code to save predictions in the format used for competition scoring\n",
    "\n",
    "output = pd.DataFrame({'Id': test_data.Id,\n",
    "                       'SalePrice': test_preds})\n",
    "output.to_csv('submission.csv', index=False)"
   ]
  }
 ],
 "metadata": {
  "kernelspec": {
   "display_name": "Python 3",
   "language": "python",
   "name": "python3"
  },
  "language_info": {
   "codemirror_mode": {
    "name": "ipython",
    "version": 3
   },
   "file_extension": ".py",
   "mimetype": "text/x-python",
   "name": "python",
   "nbconvert_exporter": "python",
   "pygments_lexer": "ipython3",
   "version": "3.7.12"
  },
  "papermill": {
   "default_parameters": {},
   "duration": 14.461705,
   "end_time": "2022-01-21T10:58:02.452023",
   "environment_variables": {},
   "exception": null,
   "input_path": "__notebook__.ipynb",
   "output_path": "__notebook__.ipynb",
   "parameters": {},
   "start_time": "2022-01-21T10:57:47.990318",
   "version": "2.3.3"
  }
 },
 "nbformat": 4,
 "nbformat_minor": 5
}
